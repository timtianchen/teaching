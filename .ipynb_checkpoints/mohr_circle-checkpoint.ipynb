{
 "cells": [
  {
   "cell_type": "code",
   "execution_count": 1,
   "id": "necessary-anthropology",
   "metadata": {},
   "outputs": [],
   "source": [
    "import numpy as np\n",
    "from numpy import pi, cos,sin,tan,sqrt\n",
    "import matplotlib.pyplot as plt\n",
    "from matplotlib.widgets import Slider, Button, RadioButtons\n",
    "\n",
    "%matplotlib widget\n",
    "\n",
    "from ipywidgets import *\n",
    "\n",
    "def fun_n(sigma_t, theta):\n",
    "    sigma_n = 1/2 * (sigma_t[0,0] + sigma_t[1,1]) + \\\n",
    "              1/2 * (sigma_t[0,0] - sigma_t[1,1]) * cos(2 * theta) + \\\n",
    "              sigma_t[0,1] * sin(2 * theta)\n",
    "    tau_n   = -1/2 * (sigma_t[0,0] - sigma_t[1,1]) * sin(2 * theta) + \\\n",
    "              sigma_t[0,1] * cos(2 * theta)\n",
    "    return [sigma_n,tau_n]\n",
    "    \n",
    "def fun_sigma_avg(sigma_t):\n",
    "    sigma_avg = 1/2*(sigma_t[0,0] + sigma_t[1,1])\n",
    "    return sigma_avg\n",
    "\n",
    "def fun_radius(sigma_t):\n",
    "    radius = sqrt((1/2*(sigma_t[0,0] - sigma_t[1,1]))**2+sigma_t[0,1]**2)\n",
    "    return radius\n",
    "\n",
    "def fun_principal_stress(sigma_avg, radius):\n",
    "    return [sigma_avg+radius,sigma_avg-radius]"
   ]
  },
  {
   "cell_type": "code",
   "execution_count": 5,
   "id": "center-prompt",
   "metadata": {},
   "outputs": [
    {
     "data": {
      "application/vnd.jupyter.widget-view+json": {
       "model_id": "2f06545ed3d9488c89c1d24b1c6c89dc",
       "version_major": 2,
       "version_minor": 0
      },
      "text/plain": [
       "Canvas(toolbar=Toolbar(toolitems=[('Home', 'Reset original view', 'home', 'home'), ('Back', 'Back to previous …"
      ]
     },
     "metadata": {},
     "output_type": "display_data"
    }
   ],
   "source": [
    "def calc(sigma_x=10.0,sigma_y=20.0,tau_xy=10.0):\n",
    "    sigma_t = np.array([[sigma_x,tau_xy],[tau_xy, sigma_y]])\n",
    "    sigma_avg        = fun_sigma_avg(sigma_t)\n",
    "    radius           = fun_radius(sigma_t)\n",
    "    principal_stress = fun_principal_stress(sigma_avg,radius)\n",
    "\n",
    "    print ('sigma: ')\n",
    "    print (sigma_t)\n",
    "    print ('sigma average: ')\n",
    "    print (sigma_avg)\n",
    "    print ('radius: ')\n",
    "    print (radius)\n",
    "    print ('principal stress: ')\n",
    "    print (principal_stress)\n",
    "\n",
    "    theta=np.linspace(0,pi,60)\n",
    "    [sigma_n, tau_n] = fun_n(sigma_t, theta)\n",
    "    \n",
    "sigma_x_s = FloatSlider(\n",
    "                value=10.00,\n",
    "                min=-25.00,\n",
    "                max=25.00,\n",
    "                step=1.0,\n",
    "                description=r'$\\sigma_\\mathrm{x}$',\n",
    "                disabled=False,\n",
    "                continuous_update=True\n",
    "            )\n",
    "sigma_y_s = FloatSlider(\n",
    "                value=10.00,\n",
    "                min=-25.00,\n",
    "                max=25.00,\n",
    "                step=1.0,\n",
    "                description=r'$\\sigma_\\mathrm{y}$',\n",
    "                disabled=False,\n",
    "                continuous_update=True\n",
    "            )\n",
    "tau_xy_s = FloatSlider(\n",
    "                value=0.00,\n",
    "                min=-25.00,\n",
    "                max=25.00,\n",
    "                step=1.0,\n",
    "                description=r'$\\tau_\\mathrm{xy}$',\n",
    "                disabled=False,\n",
    "                continuous_update=True\n",
    "            )\n",
    "\n",
    "# create a slider\n",
    "interact(calc, sigma_x = sigma_x_s, sigma_y = sigma_y_s, \n",
    "         tau_xy  = tau_xy_s)\n"
   ]
  },
  {
   "cell_type": "code",
   "execution_count": 3,
   "id": "minus-chicago",
   "metadata": {},
   "outputs": [
    {
     "data": {
      "image/png": "[encoded data removed]",
      "text/plain": [
       "<Figure size 432x288 with 1 Axes>"
      ]
     },
     "metadata": {
      "needs_background": "light"
     },
     "output_type": "display_data"
    }
   ],
   "source": [
    "\n",
    "\n",
    "\n",
    "fig, ax = plt.subplots()  # Create a figure and an axes.\n",
    "#fig.canvas.toolbar_visible = False\n",
    "#fig.canvas.header_visible = False\n",
    "#fig.canvas.resizable = False\n",
    "\n",
    "ax.plot(sigma_n,tau_n)  # Plot some data on the axes.\n",
    "\n",
    "l = 30\n",
    "ax.set_aspect(1)\n",
    "ax.set_xlim([-l,l])\n",
    "ax.set_ylim([-l,l])\n",
    "\n",
    "ax.scatter(sigma_y, tau_xy, c='grey')\n",
    "ax.scatter(sigma_x, -tau_xy, c='grey')\n",
    "\n",
    "pt = ax.scatter(sigma_y, tau_xy, c='red')\n",
    "\n",
    "ax.plot([-l,l], [0,0],  lw=0.5, c='black')\n",
    "ax.plot([0,0],  [-l,l], lw=0.5, c='black')\n",
    "\n",
    "# Move left y-axis and bottim x-axis to centre, passing through (0,0)\n",
    "ax.spines['left'].set_position('center')\n",
    "ax.spines['bottom'].set_position('center')\n",
    "\n",
    "# Eliminate upper and right axes\n",
    "ax.spines['right'].set_color('none')\n",
    "ax.spines['top'].set_color('none')\n",
    "\n",
    "# Show ticks in the left and lower axes only\n",
    "ax.xaxis.set_ticks_position('bottom')\n",
    "ax.yaxis.set_ticks_position('left')\n",
    "\n",
    "ax.set_xlabel(r'$\\tau_\\mathrm{n}$')\n",
    "ax.set_ylabel(r'$\\sigma_\\mathrm{n}$')\n",
    "\n",
    "ax.xaxis.set_label_position(\"top\")\n",
    "ax.yaxis.set_label_position(\"right\")\n",
    "\n",
    "plt.show()\n",
    "\n",
    "def update(theta_val=0.00):\n",
    "    theta_val=theta_val*pi\n",
    "    [x,y] = fun_n(sigma_t, theta_val)\n",
    "    pt.set_offsets([x,y])\n",
    "    \n",
    "    fig.canvas.draw_idle()\n",
    "\n",
    "#thetaSlider = FloatSlider(min=0., max=32.0, step=1./32., value=0., description=r'Theta [$\\pi$] = ')\n",
    "\n",
    "\n",
    "thetaSlider = FloatSlider(\n",
    "                value=0.00,\n",
    "                min=0.00,\n",
    "                max=1.00,\n",
    "                step=0.01,\n",
    "                description=r'Theta [$\\pi$]',\n",
    "                disabled=False,\n",
    "                continuous_update=True\n",
    "            )\n",
    "interact(update, theta_val=thetaSlider)\n",
    "\n"
   ]
  },
  {
   "cell_type": "code",
   "execution_count": null,
   "id": "headed-processing",
   "metadata": {},
   "outputs": [],
   "source": []
  },
  {
   "cell_type": "code",
   "execution_count": null,
   "id": "surprising-province",
   "metadata": {},
   "outputs": [],
   "source": []
  }
 ],
 "metadata": {
  "kernelspec": {
   "display_name": "Python 3",
   "language": "python",
   "name": "python3"
  },
  "language_info": {
   "codemirror_mode": {
    "name": "ipython",
    "version": 3
   },
   "file_extension": ".py",
   "mimetype": "text/x-python",
   "name": "python",
   "nbconvert_exporter": "python",
   "pygments_lexer": "ipython3",
   "version": "3.8.7"
  }
 },
 "nbformat": 4,
 "nbformat_minor": 5
}
