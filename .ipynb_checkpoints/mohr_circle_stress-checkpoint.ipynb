{
 "cells": [
  {
   "cell_type": "markdown",
   "id": "parental-latvia",
   "metadata": {},
   "source": []
  },
  {
   "cell_type": "code",
   "execution_count": 7,
   "id": "prostate-nitrogen",
   "metadata": {},
   "outputs": [
    {
     "data": {
      "image/png": "[encoded data removed]",
      "text/plain": [
       "<Figure size 432x288 with 1 Axes>"
      ]
     },
     "metadata": {
      "needs_background": "light"
     },
     "output_type": "display_data"
    }
   ],
   "source": [
    "import numpy as np\n",
    "from numpy import pi, cos,sin,tan,sqrt, radians,degrees\n",
    "\n",
    "import matplotlib.pyplot as plt\n",
    "from helper import fun_n, fun_sigma_avg, fun_radius, fun_principal_stress, r, axMod\n",
    "\n",
    "# Initial values (For the problem we will solve)\n",
    "sigma_x = -10.0\n",
    "sigma_y = 50.0\n",
    "tau_xy  = 40.0\n",
    "theta   = 0.\n",
    "\n",
    "# Assembly of the stresses into an array\n",
    "sigma_t          = np.array([[sigma_x,tau_xy],[tau_xy, sigma_y]])\n",
    "# Calculate the initial quantities\n",
    "sigma_avg        = fun_sigma_avg(sigma_t)\n",
    "radius           = fun_radius(sigma_t)\n",
    "principal_stress = fun_principal_stress(sigma_avg,radius)\n",
    "\n",
    "# Start the Mohr's circle interactive plot\n",
    "fig, ax = plt.subplots()  # Create a figure and an axes.\n",
    "\n",
    "l = 100 # extent of the grid\n",
    "axMod(fig, ax, l)\n",
    "\n",
    "# Plot the sigma_x, sigma_y, sigma_xy values on the circle \n",
    "# (Note these are updated in the update function)\n",
    "s1,  = ax.plot([sigma_t[1,1], sigma_t[0,0]], [sigma_t[0,1], -sigma_t[0,1]], 'o-', markerfacecolor='#111E6C', c='grey')\n",
    "\n",
    "for theta in np.arange(1/8*pi, pi/2,1/8*pi):\n",
    "    sigma_tp = fun_n(sigma_t, theta)\n",
    "    ax.plot([sigma_tp[1,1], sigma_tp[0,0]], [sigma_tp[0,1], -sigma_tp[0,1]], 'o-', markerfacecolor='#6593F5', c='grey')\n",
    "\n",
    "plt.show()\n"
   ]
  },
  {
   "cell_type": "code",
   "execution_count": null,
   "id": "reflected-leisure",
   "metadata": {},
   "outputs": [],
   "source": []
  }
 ],
 "metadata": {
  "kernelspec": {
   "display_name": "Python 3",
   "language": "python",
   "name": "python3"
  },
  "language_info": {
   "codemirror_mode": {
    "name": "ipython",
    "version": 3
   },
   "file_extension": ".py",
   "mimetype": "text/x-python",
   "name": "python",
   "nbconvert_exporter": "python",
   "pygments_lexer": "ipython3",
   "version": "3.8.7"
  }
 },
 "nbformat": 4,
 "nbformat_minor": 5
}
