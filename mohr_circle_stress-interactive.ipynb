{
 "cells": [
  {
   "cell_type": "markdown",
   "id": "brilliant-concentration",
   "metadata": {},
   "source": [
    "# Visualization of Mohr's circle\n",
    "To run the code, press <b>shift + enter</b>\n",
    "\n",
    "Stress tensor in 2D\n",
    "\\begin{equation}\n",
    "\\mathbf{\\sigma} = \n",
    "\\begin{bmatrix}\n",
    "\\sigma_\\mathrm{x} & \\tau_\\mathrm{xy}\\\\\n",
    "\\tau_\\mathrm{yx} & \\sigma_\\mathrm{y}\n",
    "\\end{bmatrix}\n",
    "\\end{equation}\n",
    "\n",
    "\n",
    "Normal stress as a function of transformation angle $\\theta$\n",
    "\\begin{equation}\n",
    "\\sigma _\\mathrm{xx}^{*}={\\frac  {1}{2}}(\\sigma _{x}+\\sigma _{y})+{\\frac  {1}{2}}(\\sigma _{x}-\\sigma _{y})\\cos 2\\theta +\\tau _{{xy}}\\sin 2\\theta \n",
    "\\end{equation}\n",
    "\n",
    "Shear stress as a function of transformation angle $\\theta$\n",
    "\\begin{equation}\n",
    "\\tau _\\mathrm{xy}^{*}=-{\\frac  {1}{2}}(\\sigma _{x}-\\sigma _{y})\\sin 2\\theta +\\tau _{{xy}}\\cos 2\\theta \n",
    "\\end{equation}\n",
    "\n",
    "Radius of the Mohr's circle and average stress\n",
    "\\begin{equation}\n",
    "R={\\sqrt  {\\left[{\\tfrac  {1}{2}}(\\sigma _{x}-\\sigma _{y})\\right]^{2}+\\tau _{{xy}}^{2}}}\\quad {\\text{and}}\\quad \\sigma _{{\\mathrm  {avg}}}={\\tfrac  {1}{2}}(\\sigma _{x}+\\sigma _{y})\n",
    "\\end{equation}\n",
    "\n",
    "Principal stresses\n",
    "\\begin{equation}\\sigma _{1}=\\sigma _{\\max }=\\sigma _{{\\text{avg}}}+R\\end{equation}\n",
    "\\begin{equation}\\sigma _{2}=\\sigma _{\\min }=\\sigma _{{\\text{avg}}}-R\\end{equation}"
   ]
  },
  {
   "cell_type": "code",
   "execution_count": 3,
   "id": "waiting-thesaurus",
   "metadata": {},
   "outputs": [
    {
     "data": {
      "application/vnd.jupyter.widget-view+json": {
       "model_id": "9821b8b68c154af29c2cab51295beaa7",
       "version_major": 2,
       "version_minor": 0
      },
      "text/plain": [
       "Canvas(toolbar=Toolbar(toolitems=[('Home', 'Reset original view', 'home', 'home'), ('Back', 'Back to previous …"
      ]
     },
     "metadata": {},
     "output_type": "display_data"
    },
    {
     "data": {
      "application/vnd.jupyter.widget-view+json": {
       "model_id": "ac26d9523bd547c996a1c205fd2c3b6a",
       "version_major": 2,
       "version_minor": 0
      },
      "text/plain": [
       "interactive(children=(FloatSlider(value=-10.0, description='$\\\\sigma_\\\\mathrm{x}$', layout=Layout(width='750px…"
      ]
     },
     "metadata": {},
     "output_type": "display_data"
    },
    {
     "data": {
      "text/plain": [
       "<function __main__.calc(sigma_x=-10.0, sigma_y=50.0, tau_xy=40.0, theta=0.0)>"
      ]
     },
     "execution_count": 3,
     "metadata": {},
     "output_type": "execute_result"
    }
   ],
   "source": [
    "import numpy as np\n",
    "from numpy import pi, cos,sin,tan,sqrt, radians,degrees\n",
    "\n",
    "import matplotlib.pyplot as plt\n",
    "from matplotlib.widgets import Slider, Button, RadioButtons\n",
    "\n",
    "from ipywidgets import *\n",
    "\n",
    "%matplotlib widget\n",
    "\n",
    "from helper import fun_n, fun_sigma_avg, fun_radius, fun_principal_stress, r, axMod\n",
    "\n",
    "# Initial values (For the problem we will solve)\n",
    "sigma_x = -10.0\n",
    "sigma_y = 50.0\n",
    "tau_xy  = 40.0\n",
    "theta   = 0.\n",
    "\n",
    "# Assembly of the stresses into an array\n",
    "sigma_t          = np.array([[sigma_x,tau_xy],[tau_xy, sigma_y]])\n",
    "# Calculate the initial quantities\n",
    "sigma_avg        = fun_sigma_avg(sigma_t)\n",
    "radius           = fun_radius(sigma_t)\n",
    "principal_stress = fun_principal_stress(sigma_avg,radius)\n",
    "\n",
    "sigma_tp         = fun_n(sigma_t, theta)\n",
    "\n",
    "# Start the Mohr's circle interactive plot\n",
    "fig, ax = plt.subplots(figsize=[9,9])  # Create a figure and an axes.\n",
    "\n",
    "l = 250 # extent of the grid\n",
    "axMod(fig, ax, l)\n",
    "\n",
    "# Plot the mohr's circle\n",
    "circ = plt.Circle(sigma_avg, radius,edgecolor='#000000', alpha=0.1, facecolor='#a5b8d8')\n",
    "\n",
    "# Plot the sigma_x, sigma_y, sigma_xy values on the circle \n",
    "# (Note these are updated in the update function)\n",
    "s1,  = ax.plot([sigma_t[1,1], sigma_t[0,0]], [sigma_t[0,1], -sigma_t[0,1]], 'o-', markerfacecolor='#111E6C', c='grey')\n",
    "sc   = ax.scatter(sigma_avg[0],0, c='#4682B4')\n",
    "smax = ax.scatter(principal_stress[0][0],0, c='#008081')\n",
    "smin = ax.scatter(principal_stress[1][0],0, c='#008081')\n",
    "st,  = ax.plot([sigma_tp[1,1], sigma_tp[0,0]], [sigma_tp[0,1], -sigma_tp[0,1]], 'o-', markerfacecolor='#6593F5', c='grey')\n",
    "\n",
    "ax.add_patch(circ)\n",
    "plt.show()\n",
    "\n",
    "\n",
    "# Call back function \n",
    "def calc(sigma_x=-10.0,sigma_y=50.0,tau_xy=40.0,theta=0.):\n",
    "    theta = radians(theta)\n",
    "    sigma_t = np.array([[sigma_x,tau_xy],[tau_xy, sigma_y]])\n",
    "    sigma_avg        = fun_sigma_avg(sigma_t)\n",
    "    radius           = fun_radius(sigma_t)\n",
    "    principal_stress = fun_principal_stress(sigma_avg,radius)\n",
    "    \n",
    "    sigma_tp= fun_n(sigma_t, theta)\n",
    "    \n",
    "    strI   = sigma_x + sigma_y\n",
    "    strII  = -tau_xy**2 + sigma_x * sigma_y\n",
    "    strIII = sigma_x * sigma_y - tau_xy*tau_xy\n",
    "    \n",
    "    print ('sigma: ')\n",
    "    print (sigma_t)\n",
    "    print ('sigma average: ' + str(r(sigma_avg[0])))\n",
    "    print ('radius: ' + str(r(radius)))\n",
    "    print ('principal stress: ')\n",
    "    print ([r(principal_stress[0][0]),r(principal_stress[1][0])])\n",
    "    \n",
    "    print ('max/min shear stress: ')\n",
    "    print ([r(-radius),r(radius)])\n",
    "    \n",
    "    print ('Rotated stress for theta = ' + str(r(degrees(theta))) + ':')\n",
    "    print (sigma_tp)\n",
    "    \n",
    "    print ('Stress invariants')\n",
    "    print ('I:'   + str(r(strI)))\n",
    "    print ('II:'  + str(r(strII)))\n",
    "    print ('III:' + str(r(strIII)))\n",
    "    \n",
    "    # Update Mohr's circle\n",
    "    circ.center = sigma_avg\n",
    "    circ.radius = radius\n",
    "    \n",
    "    s1.set_xdata([sigma_t[1,1], sigma_t[0,0]])\n",
    "    s1.set_ydata([sigma_t[0,1], -sigma_t[0,1]])\n",
    "    \n",
    "    st.set_xdata([sigma_tp[1,1], sigma_tp[0,0]])\n",
    "    st.set_ydata([sigma_tp[0,1], -sigma_tp[0,1]])\n",
    "    \n",
    "    sc.set_offsets([sigma_avg[0],0])\n",
    "    \n",
    "    smax.set_offsets([principal_stress[0][0],0])\n",
    "    smin.set_offsets([principal_stress[1][0],0])\n",
    "    \n",
    "    fig.canvas.draw_idle()\n",
    "    \n",
    "sL = 50.\n",
    "\n",
    "sigma_x_s = FloatSlider(\n",
    "                value=-10.00, min=-sL, max=sL, step=0.5,\n",
    "                description=r'$\\sigma_\\mathrm{x}$',\n",
    "                disabled=False,continuous_update=True, layout=Layout(width='750px'))\n",
    "sigma_y_s = FloatSlider(\n",
    "                value=50.00, min=-sL, max=sL, step=0.5,\n",
    "                description=r'$\\sigma_\\mathrm{y}$',\n",
    "                disabled=False,continuous_update=True, layout=Layout(width='750px'))\n",
    "tau_xy_s = FloatSlider(\n",
    "                value=40.00, min=-sL, max=sL, step=0.5,\n",
    "                description=r'$\\tau_\\mathrm{xy}$',\n",
    "                disabled=False,continuous_update=True, layout=Layout(width='750px'))\n",
    "theta_s = FloatSlider(\n",
    "                value=0.00, min=0.00, max=90.00, step=0.1,\n",
    "                description=r'$\\theta$ (deg)',\n",
    "                disabled=False,continuous_update=True, layout=Layout(width='750px'))\n",
    "\n",
    "# create the sliders\n",
    "interact(calc, fig=fig, circ=circ, s1=s1, st=st,sc=sc, smax=smax, smin=smin, sigma_x = sigma_x_s, sigma_y = sigma_y_s, \n",
    "         tau_xy  = tau_xy_s,theta=theta_s)"
   ]
  },
  {
   "cell_type": "code",
   "execution_count": null,
   "id": "declared-samba",
   "metadata": {},
   "outputs": [],
   "source": []
  }
 ],
 "metadata": {
  "kernelspec": {
   "display_name": "Python 3",
   "language": "python",
   "name": "python3"
  },
  "language_info": {
   "codemirror_mode": {
    "name": "ipython",
    "version": 3
   },
   "file_extension": ".py",
   "mimetype": "text/x-python",
   "name": "python",
   "nbconvert_exporter": "python",
   "pygments_lexer": "ipython3",
   "version": "3.8.7"
  }
 },
 "nbformat": 4,
 "nbformat_minor": 5
}
